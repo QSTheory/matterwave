{
 "cells": [
  {
   "cell_type": "markdown",
   "metadata": {},
   "source": [
    "# Finding the ground state via imaginary time evolution\n",
    "\n",
    "## Physics\n",
    "\n",
    "### Quantum harmonic oscillator\n",
    "\n",
    "Consider the quantum harmonic oscillator (QHO) - the quantum-mechanical analog\n",
    "of the classical harmonic oscillator. The Hamiltonian is defined as \n",
    "\n",
    "$$\n",
    "H = \\hat T + \\hat V = \\frac{\\hat p^2}{2m} + \\frac{1}{2}m w^2\\hat x^2\n",
    "$$\n",
    "\n",
    "where $\\hat p$ is the momentum operator, $m$ is the mass, $\\omega$ is the\n",
    "angular frequency, and $\\hat x$ is the position operator.\n",
    "\n",
    "Our goal is to find the ground state of a one-dimensional QHO for a given\n",
    "angular frequency $\\omega_x$. For a given initial state the imaginary time\n",
    "evolution can be iteratively applied to evolve the initial state to the ground\n",
    "state of our system. \n",
    "\n",
    "### The imaginary time evolution\n",
    "The imaginary time evolution is equivalent to applying the split-step operator\n",
    "\n",
    "$$\n",
    "e^{-\\tfrac{i}{\\hbar}H \\mathrm{dt}} \\approx e^{-\\tfrac{i}{\\hbar}\\frac{\\hat T}{2} \\mathrm{dt}} e^{-\\tfrac{i}{\\hbar}\\hat V \\mathrm{dt}} e^{-\\tfrac{i}{\\hbar}\\frac{\\hat T}{2} \\mathrm{dt}}\n",
    "$$\n",
    "\n",
    "with imaginary time step $\\mathrm{dt}=-i\\mathrm{dt}$. \n",
    "By exchanging the time step, the time evolution operator turns into a\n",
    "real-valued coefficient. Expanding the initial state in terms of eigenstates of\n",
    "the system $\\Psi = \\sum_n a_n\\Psi_n$ reveals that each eigenstate $\\Psi_n$ is\n",
    "scaled by $e^{-\\frac{1}{\\hbar} E_n \\mathrm{dt}}a_n$ where $H \\Psi_n = E_n\n",
    "\\Psi_n$. Thus, by iteratively applying the split-step operator, an approximation\n",
    "for the ground state will remain. States with higher energy will be suppressed\n",
    "by their small coefficient. Note that the wavefunction has to be normalized\n",
    "after each application as the split-step operator became non-unitary. \n",
    "Spoiler alert: this is covered inside the `split_step` function if the argument\n",
    "`is_complex` is set to `True`."
   ]
  },
  {
   "cell_type": "markdown",
   "metadata": {},
   "source": [
    "## Code"
   ]
  },
  {
   "cell_type": "code",
   "execution_count": 9,
   "metadata": {},
   "outputs": [],
   "source": [
    "# math lib for computation on CPU/GPU/TPU\n",
    "import jax.numpy as jnp\n",
    "from jax.lax import scan\n",
    "# fftarray\n",
    "from fftarray.backends.jax_backend import JaxTensorLib\n",
    "from fftarray.backends.np_backend import NumpyTensorLib\n",
    "from fftarray.fft_constraint_solver import fft_dim_from_constraints\n",
    "# matterwave\n",
    "from matterwave import split_step, get_ground_state_ho, get_e_kin\n",
    "\n",
    "# constants\n",
    "from scipy.constants import pi, hbar, Boltzmann\n",
    "from matterwave.rb87 import m as m_rb87"
   ]
  },
  {
   "cell_type": "markdown",
   "metadata": {},
   "source": [
    "### Initialize global variables"
   ]
  },
  {
   "cell_type": "code",
   "execution_count": 4,
   "metadata": {},
   "outputs": [],
   "source": [
    "# here: mass of rb87\n",
    "mass = m_rb87 # kg\n",
    "# the angular frequency of the QHO whose ground state and energy is to find:\n",
    "omega_x = 2.*pi # Hz\n",
    "# omega_x_init is used to generate the initial state that will be evolved to the\n",
    "# desired ground state (the generated state is the ground state of the QHO with\n",
    "# angular frequency omega_x_init):\n",
    "omega_x_init = 2.*pi*0.1 # Hz\n",
    "# time step for split-step:\n",
    "dt = 1e-4 # s\n",
    "# choose dimension x [m]"
   ]
  },
  {
   "cell_type": "markdown",
   "metadata": {},
   "source": [
    "### Initialize the wavefunction"
   ]
  },
  {
   "cell_type": "code",
   "execution_count": 13,
   "metadata": {},
   "outputs": [
    {
     "ename": "AssertionError",
     "evalue": "",
     "output_type": "error",
     "traceback": [
      "\u001b[0;31m---------------------------------------------------------------------------\u001b[0m",
      "\u001b[0;31mAssertionError\u001b[0m                            Traceback (most recent call last)",
      "Cell \u001b[0;32mIn[13], line 11\u001b[0m\n\u001b[1;32m      3\u001b[0m x_dim \u001b[38;5;241m=\u001b[39m fft_dim_from_constraints(\n\u001b[1;32m      4\u001b[0m     \u001b[38;5;124m\"\u001b[39m\u001b[38;5;124mx\u001b[39m\u001b[38;5;124m\"\u001b[39m,\n\u001b[1;32m      5\u001b[0m     n \u001b[38;5;241m=\u001b[39m \u001b[38;5;241m2048\u001b[39m,\n\u001b[0;32m   (...)\u001b[0m\n\u001b[1;32m      8\u001b[0m     freq_middle \u001b[38;5;241m=\u001b[39m \u001b[38;5;241m0.\u001b[39m\n\u001b[1;32m      9\u001b[0m )\n\u001b[1;32m     10\u001b[0m \u001b[38;5;66;03m# initialize the wavefunction as the ground state of the QHO with omega_x_init\u001b[39;00m\n\u001b[0;32m---> 11\u001b[0m wf_init \u001b[38;5;241m=\u001b[39m \u001b[43mget_ground_state_ho\u001b[49m\u001b[43m(\u001b[49m\n\u001b[1;32m     12\u001b[0m \u001b[43m    \u001b[49m\u001b[43mdim\u001b[49m\u001b[43m \u001b[49m\u001b[38;5;241;43m=\u001b[39;49m\u001b[43m \u001b[49m\u001b[43mx_dim\u001b[49m\u001b[43m,\u001b[49m\n\u001b[1;32m     13\u001b[0m \u001b[43m    \u001b[49m\u001b[43mtlib\u001b[49m\u001b[43m \u001b[49m\u001b[38;5;241;43m=\u001b[39;49m\u001b[43m \u001b[49m\u001b[43mJaxTensorLib\u001b[49m\u001b[43m(\u001b[49m\u001b[43m)\u001b[49m\u001b[43m,\u001b[49m\n\u001b[1;32m     14\u001b[0m \u001b[43m    \u001b[49m\u001b[43momega\u001b[49m\u001b[43m \u001b[49m\u001b[38;5;241;43m=\u001b[39;49m\u001b[43m \u001b[49m\u001b[43momega_x_init\u001b[49m\u001b[43m,\u001b[49m\n\u001b[1;32m     15\u001b[0m \u001b[43m    \u001b[49m\u001b[43mmass\u001b[49m\u001b[43m \u001b[49m\u001b[38;5;241;43m=\u001b[39;49m\u001b[43m \u001b[49m\u001b[43mmass\u001b[49m\n\u001b[1;32m     16\u001b[0m \u001b[43m)\u001b[49m\n",
      "File \u001b[0;32m~/Documents/PhD/QSTheory/matterwave/matterwave/wf_tools.py:154\u001b[0m, in \u001b[0;36mget_ground_state_ho\u001b[0;34m(dim, tlib, eager, omega, sigma_p, mass)\u001b[0m\n\u001b[1;32m    151\u001b[0m x \u001b[38;5;241m=\u001b[39m dim\u001b[38;5;241m.\u001b[39mfft_array(tlib, space\u001b[38;5;241m=\u001b[39m\u001b[38;5;124m\"\u001b[39m\u001b[38;5;124mpos\u001b[39m\u001b[38;5;124m\"\u001b[39m, eager\u001b[38;5;241m=\u001b[39meager)\n\u001b[1;32m    152\u001b[0m wf \u001b[38;5;241m=\u001b[39m (mass \u001b[38;5;241m*\u001b[39m omega \u001b[38;5;241m/\u001b[39m (pi\u001b[38;5;241m*\u001b[39mhbar))\u001b[38;5;241m*\u001b[39m\u001b[38;5;241m*\u001b[39m(\u001b[38;5;241m1.\u001b[39m\u001b[38;5;241m/\u001b[39m\u001b[38;5;241m4.\u001b[39m) \u001b[38;5;241m*\u001b[39m np\u001b[38;5;241m.\u001b[39mexp(\u001b[38;5;241m-\u001b[39m(mass \u001b[38;5;241m*\u001b[39m omega \u001b[38;5;241m*\u001b[39m (x\u001b[38;5;241m*\u001b[39m\u001b[38;5;241m*\u001b[39m\u001b[38;5;241m2.\u001b[39m)\u001b[38;5;241m/\u001b[39m(\u001b[38;5;241m2.\u001b[39m\u001b[38;5;241m*\u001b[39mhbar))\u001b[38;5;241m+\u001b[39m\u001b[38;5;241m0.\u001b[39mj)\n\u001b[0;32m--> 154\u001b[0m wf \u001b[38;5;241m=\u001b[39m \u001b[43mnormalize\u001b[49m\u001b[43m(\u001b[49m\u001b[43mwf\u001b[49m\u001b[43m)\u001b[49m\n\u001b[1;32m    155\u001b[0m \u001b[38;5;28;01mreturn\u001b[39;00m wf\n",
      "File \u001b[0;32m~/Documents/PhD/QSTheory/matterwave/matterwave/wf_tools.py:69\u001b[0m, in \u001b[0;36mnormalize\u001b[0;34m(wf)\u001b[0m\n\u001b[1;32m     51\u001b[0m \u001b[38;5;28;01mdef\u001b[39;00m \u001b[38;5;21mnormalize\u001b[39m(wf: FFTArray) \u001b[38;5;241m-\u001b[39m\u001b[38;5;241m>\u001b[39m FFTArray:\n\u001b[1;32m     52\u001b[0m \u001b[38;5;250m    \u001b[39m\u001b[38;5;124;03m\"\"\"Normalize the FFTWave.\u001b[39;00m\n\u001b[1;32m     53\u001b[0m \n\u001b[1;32m     54\u001b[0m \u001b[38;5;124;03m    Parameters\u001b[39;00m\n\u001b[0;32m   (...)\u001b[0m\n\u001b[1;32m     67\u001b[0m \u001b[38;5;124;03m    matterwave.wf_tools.norm_freq_space\u001b[39;00m\n\u001b[1;32m     68\u001b[0m \u001b[38;5;124;03m    \"\"\"\u001b[39;00m\n\u001b[0;32m---> 69\u001b[0m     norm_factor \u001b[38;5;241m=\u001b[39m wf\u001b[38;5;241m.\u001b[39mtlib\u001b[38;5;241m.\u001b[39mnumpy_ufuncs\u001b[38;5;241m.\u001b[39msqrt(\u001b[38;5;241m1.\u001b[39m\u001b[38;5;241m/\u001b[39m\u001b[43mnorm\u001b[49m\u001b[43m(\u001b[49m\u001b[43mwf\u001b[49m\u001b[43m)\u001b[49m)\n\u001b[1;32m     70\u001b[0m     \u001b[38;5;28;01mreturn\u001b[39;00m wf \u001b[38;5;241m*\u001b[39m norm_factor\n",
      "File \u001b[0;32m~/Documents/PhD/QSTheory/matterwave/matterwave/wf_tools.py:27\u001b[0m, in \u001b[0;36mnorm\u001b[0;34m(wf)\u001b[0m\n\u001b[1;32m     10\u001b[0m \u001b[38;5;250m\u001b[39m\u001b[38;5;124;03m\"\"\"Compute the norm of the given FFTWave in its current space.\u001b[39;00m\n\u001b[1;32m     11\u001b[0m \n\u001b[1;32m     12\u001b[0m \u001b[38;5;124;03mParameters\u001b[39;00m\n\u001b[0;32m   (...)\u001b[0m\n\u001b[1;32m     24\u001b[0m \u001b[38;5;124;03mmatterwave.wf_tools.normalize\u001b[39;00m\n\u001b[1;32m     25\u001b[0m \u001b[38;5;124;03m\"\"\"\u001b[39;00m\n\u001b[1;32m     26\u001b[0m abs_sq: FFTArray \u001b[38;5;241m=\u001b[39m np\u001b[38;5;241m.\u001b[39mabs(wf)\u001b[38;5;241m*\u001b[39m\u001b[38;5;241m*\u001b[39m\u001b[38;5;241m2\u001b[39m \u001b[38;5;66;03m# type: ignore\u001b[39;00m\n\u001b[0;32m---> 27\u001b[0m \u001b[38;5;28;01mreturn\u001b[39;00m \u001b[43mintegrate\u001b[49m\u001b[43m(\u001b[49m\u001b[43mabs_sq\u001b[49m\u001b[43m)\u001b[49m\n",
      "File \u001b[0;32m~/Documents/PhD/QSTheory/matterwave/matterwave/wf_tools.py:43\u001b[0m, in \u001b[0;36mintegrate\u001b[0;34m(abs_sq)\u001b[0m\n\u001b[1;32m     29\u001b[0m \u001b[38;5;28;01mdef\u001b[39;00m \u001b[38;5;21mintegrate\u001b[39m(abs_sq: FFTArray) \u001b[38;5;241m-\u001b[39m\u001b[38;5;241m>\u001b[39m \u001b[38;5;28mfloat\u001b[39m:\n\u001b[1;32m     30\u001b[0m \u001b[38;5;250m    \u001b[39m\u001b[38;5;124;03m\"\"\"Integrate the given |wf|^2 in the space of wf.\u001b[39;00m\n\u001b[1;32m     31\u001b[0m \n\u001b[1;32m     32\u001b[0m \u001b[38;5;124;03m    Parameters\u001b[39;00m\n\u001b[0;32m   (...)\u001b[0m\n\u001b[1;32m     41\u001b[0m \n\u001b[1;32m     42\u001b[0m \u001b[38;5;124;03m    \"\"\"\u001b[39;00m\n\u001b[0;32m---> 43\u001b[0m     \u001b[38;5;28;01massert\u001b[39;00m abs_sq\u001b[38;5;241m.\u001b[39mvalues\u001b[38;5;241m.\u001b[39mdtype \u001b[38;5;241m==\u001b[39m abs_sq\u001b[38;5;241m.\u001b[39mtlib\u001b[38;5;241m.\u001b[39mreal_type\n\u001b[1;32m     44\u001b[0m     reduced \u001b[38;5;241m=\u001b[39m abs_sq\u001b[38;5;241m.\u001b[39mtlib\u001b[38;5;241m.\u001b[39mnumpy_ufuncs\u001b[38;5;241m.\u001b[39msum(abs_sq\u001b[38;5;241m.\u001b[39mvalues)\n\u001b[1;32m     46\u001b[0m     \u001b[38;5;28;01mif\u001b[39;00m _scalar_space(abs_sq) \u001b[38;5;241m==\u001b[39m \u001b[38;5;124m\"\u001b[39m\u001b[38;5;124mpos\u001b[39m\u001b[38;5;124m\"\u001b[39m:\n",
      "\u001b[0;31mAssertionError\u001b[0m: "
     ]
    }
   ],
   "source": [
    "# insert the constraints for the x dimension, all other free variables will be\n",
    "# set accordingly\n",
    "x_dim = fft_dim_from_constraints(\n",
    "    \"x\",\n",
    "    n = 2048,\n",
    "    pos_min = -200e-6,\n",
    "    pos_max = 200e-6,\n",
    "    freq_middle = 0.\n",
    ")\n",
    "# initialize the wavefunction as the ground state of the QHO with omega_x_init\n",
    "wf_init = get_ground_state_ho(\n",
    "    dim = x_dim,\n",
    "    tlib = JaxTensorLib(),\n",
    "    omega = omega_x_init,\n",
    "    mass = mass\n",
    ")"
   ]
  },
  {
   "cell_type": "code",
   "execution_count": null,
   "metadata": {},
   "outputs": [],
   "source": []
  }
 ],
 "metadata": {
  "kernelspec": {
   "display_name": "Python 3",
   "language": "python",
   "name": "python3"
  },
  "language_info": {
   "codemirror_mode": {
    "name": "ipython",
    "version": 3
   },
   "file_extension": ".py",
   "mimetype": "text/x-python",
   "name": "python",
   "nbconvert_exporter": "python",
   "pygments_lexer": "ipython3",
   "version": "3.9.18"
  }
 },
 "nbformat": 4,
 "nbformat_minor": 2
}
