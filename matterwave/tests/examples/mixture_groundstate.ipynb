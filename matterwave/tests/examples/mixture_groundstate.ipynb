{
 "cells": [
  {
   "cell_type": "code",
   "execution_count": 2,
   "metadata": {},
   "outputs": [],
   "source": [
    "from fftarray.fft_constraint_solver import fft_dim_from_constraints\n",
    "import numpy as np"
   ]
  },
  {
   "cell_type": "code",
   "execution_count": 3,
   "metadata": {},
   "outputs": [],
   "source": [
    "# Define dimensions\n",
    "x_dim = fft_dim_from_constraints(\n",
    "    name=\"x\",\n",
    "    pos_middle=0,\n",
    "    freq_middle=0,\n",
    "    pos_extent=200e-6,\n",
    "    n=2**10\n",
    ")\n",
    "y_dim = fft_dim_from_constraints(\n",
    "    name=\"y\",\n",
    "    pos_middle=0,\n",
    "    freq_middle=0,\n",
    "    pos_extent=20e-6,\n",
    "    n=2**10\n",
    ")"
   ]
  },
  {
   "cell_type": "code",
   "execution_count": 5,
   "metadata": {},
   "outputs": [],
   "source": [
    "trap_frequencies_rb = 2*np.pi*np.array([25, 400])\n",
    "trap_frequencies_k = np.sqrt(87/41) * trap_frequencies_rb\n",
    "trap_minimum = np.zeros(2)"
   ]
  },
  {
   "cell_type": "code",
   "execution_count": null,
   "metadata": {},
   "outputs": [],
   "source": [
    "from matterwave.wf_tools import get_ground_state\n",
    "\n"
   ]
  }
 ],
 "metadata": {
  "kernelspec": {
   "display_name": "fft_array",
   "language": "python",
   "name": "python3"
  },
  "language_info": {
   "codemirror_mode": {
    "name": "ipython",
    "version": 3
   },
   "file_extension": ".py",
   "mimetype": "text/x-python",
   "name": "python",
   "nbconvert_exporter": "python",
   "pygments_lexer": "ipython3",
   "version": "3.9.18"
  }
 },
 "nbformat": 4,
 "nbformat_minor": 2
}
