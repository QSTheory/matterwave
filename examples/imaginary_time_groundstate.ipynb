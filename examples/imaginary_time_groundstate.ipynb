{
 "cells": [
  {
   "cell_type": "markdown",
   "metadata": {},
   "source": [
    "# Finding the ground state via imaginary time evolution\n",
    "\n",
    "## Physics\n",
    "\n",
    "### Quantum harmonic oscillator\n",
    "\n",
    "Consider the quantum harmonic oscillator (QHO) - the quantum-mechanical analog\n",
    "of the classical harmonic oscillator. The Hamiltonian is defined as \n",
    "\n",
    "$$\n",
    "H = \\hat T + \\hat V = \\frac{\\hat p^2}{2m} + \\frac{1}{2}m w^2\\hat x^2\n",
    "$$\n",
    "\n",
    "where $\\hat p$ is the momentum operator, $m$ is the mass, $\\omega$ is the\n",
    "angular frequency, and $\\hat x$ is the position operator.\n",
    "\n",
    "Our goal is to find the ground state of a one-dimensional QHO for a given\n",
    "angular frequency $\\omega_x$. For a given initial state, the imaginary time\n",
    "evolution can be iteratively applied to evolve the initial state to the ground\n",
    "state of our system. \n",
    "\n",
    "### The imaginary time evolution\n",
    "The imaginary time evolution is equivalent to applying the split-step operator\n",
    "\n",
    "$$\n",
    "e^{-\\tfrac{i}{\\hbar}H \\mathrm{dt}} \\approx e^{-\\tfrac{i}{\\hbar}\\frac{\\hat T}{2} \\mathrm{dt}} e^{-\\tfrac{i}{\\hbar}\\hat V \\mathrm{dt}} e^{-\\tfrac{i}{\\hbar}\\frac{\\hat T}{2} \\mathrm{dt}}\n",
    "$$\n",
    "\n",
    "with imaginary time step $\\mathrm{dt}=-i\\mathrm{dt}$. \n",
    "By exchanging the time step, the time evolution operator turns into a\n",
    "real-valued coefficient. Expanding the initial state in terms of eigenstates of\n",
    "the system $\\Psi = \\sum_n a_n\\Psi_n$ reveals that each eigenstate $\\Psi_n$ is\n",
    "scaled by $e^{-\\frac{1}{\\hbar} E_n \\mathrm{dt}}a_n$ where $H \\Psi_n = E_n\n",
    "\\Psi_n$. Thus, by iteratively applying the split-step operator, an approximation\n",
    "for the ground state will remain. States with higher energy will be suppressed\n",
    "by their small coefficient. Note that the wavefunction has to be normalized\n",
    "after each application as the split-step operator became non-unitary. \n",
    "Spoiler alert: this is covered inside the `split_step` function if the argument\n",
    "`is_complex` is set to `True`."
   ]
  },
  {
   "cell_type": "markdown",
   "metadata": {},
   "source": [
    "## Code"
   ]
  },
  {
   "cell_type": "markdown",
   "metadata": {},
   "source": [
    "### Initialize global variables"
   ]
  },
  {
   "cell_type": "code",
   "execution_count": null,
   "metadata": {},
   "outputs": [],
   "source": [
    "# plotting in jupyter notebook\n",
    "import panel as pn\n",
    "pn.extension()\n",
    "from bokeh.io import output_notebook\n",
    "output_notebook()\n",
    "\n",
    "from scipy.constants import pi\n",
    "from matterwave.rb87 import m as m_rb87\n",
    "# here: mass of rb87\n",
    "mass = m_rb87 # kg\n",
    "# the angular frequency of the QHO whose ground state and energy is to find:\n",
    "omega_x = 2.*pi # Hz\n",
    "# omega_x_init is used to generate the initial state that will be evolved to the\n",
    "# desired ground state (the generated state is the ground state of the QHO with\n",
    "# angular frequency omega_x_init):\n",
    "omega_x_init = 2.*pi*0.1 # Hz\n",
    "# time step for split-step:\n",
    "dt = 1e-4 # s\n",
    "# choose dimension x [m]"
   ]
  },
  {
   "cell_type": "markdown",
   "metadata": {},
   "source": [
    "### Initialize the grid\n",
    "The `FFTDimension` is created using `fft_dim_constraints` that solves the \n",
    "special boundary conditions of the position and frequency space grid for a \n",
    "discrete FFT."
   ]
  },
  {
   "cell_type": "code",
   "execution_count": null,
   "metadata": {},
   "outputs": [],
   "source": [
    "from fftarray import FFTDimension\n",
    "from fftarray.fft_constraint_solver import fft_dim_from_constraints\n",
    "# insert the constraints for the x dimension, all other free variables will be\n",
    "# set accordingly\n",
    "x_dim: FFTDimension = fft_dim_from_constraints(\n",
    "    \"x\",\n",
    "    n = 2048,\n",
    "    pos_min = -200e-6,\n",
    "    pos_max = 200e-6,\n",
    "    freq_middle = 0.\n",
    ")"
   ]
  },
  {
   "cell_type": "markdown",
   "metadata": {},
   "source": [
    "### Initialize the wavefunction\n",
    "\n",
    "As a first guess for our groundstate, we initialize an `FFTArray` as the ground\n",
    "state of the QHO with frequency `omega_x_init` and mass `mass`. For this, we use\n",
    "the `get_ground_state_ho` function and pass it our `FFTDimension` and TensorLib\n",
    "(here: `JaxTensorLib`)."
   ]
  },
  {
   "cell_type": "code",
   "execution_count": null,
   "metadata": {},
   "outputs": [],
   "source": [
    "from fftarray import FFTArray\n",
    "from matterwave import get_ground_state_ho\n",
    "from fftarray.backends.jax_backend import JaxTensorLib\n",
    "\n",
    "from matterwave.helpers import generate_panel_plot\n",
    "# initialize the wavefunction as the ground state of the QHO with omega_x_init\n",
    "wf_init: FFTArray = get_ground_state_ho(\n",
    "    dim = x_dim,\n",
    "    tlib = JaxTensorLib(),\n",
    "    omega = omega_x_init,\n",
    "    mass = mass\n",
    ")\n",
    "# plotting\n",
    "generate_panel_plot(wf_init)"
   ]
  },
  {
   "cell_type": "markdown",
   "metadata": {},
   "source": [
    "### Define the QHO potential\n",
    "In this step, we define the QHO potential:\n",
    "$$\n",
    "V_\\mathrm{QHO} = \\frac{1}{2}m w^2\\hat x^2\n",
    "$$\n",
    "from the position operator $\\hat x$."
   ]
  },
  {
   "cell_type": "code",
   "execution_count": null,
   "metadata": {},
   "outputs": [],
   "source": [
    "# define the position operator\n",
    "x: FFTArray = x_dim.fft_array(tlib=JaxTensorLib(), space=\"pos\")\n",
    "# define the potential\n",
    "V_qho: FFTArray = 0.5 * mass * omega_x**2. * x**2."
   ]
  },
  {
   "cell_type": "markdown",
   "metadata": {},
   "source": [
    "Note that `V_qho` is of instance `FFTArray` as it incorporates the values of the\n",
    "potential along the `FFTDimension` \"x\" in position space."
   ]
  },
  {
   "cell_type": "markdown",
   "metadata": {},
   "source": [
    "### Imaginary time evolution\n",
    "First we define the function that is iteratively called by `jax.lax.scan`."
   ]
  },
  {
   "cell_type": "code",
   "execution_count": null,
   "metadata": {},
   "outputs": [],
   "source": [
    "from scipy.constants import Boltzmann\n",
    "from matterwave import split_step, get_e_kin, expectation_value\n",
    "\n",
    "def step(wf: FFTArray, *_):\n",
    "    \"\"\"\n",
    "    The step function for the iteration using jax.lax.scan.\n",
    "\n",
    "    Args:\n",
    "        wf (FFTArray): The wavefunction which sould be evolved.\n",
    "\n",
    "    Returns:\n",
    "        Tuple[FFTArray, dict]: Returns the wavefunction for the next iteration\n",
    "        step and a dictionary containing the energy values.\n",
    "    \"\"\"\n",
    "    # save the energy in µK to avoid small values (~1e-33 for Joule)\n",
    "    # calculate the kinetic energy (result is returned in µK)\n",
    "    E_kin = get_e_kin(wf, m=mass, return_microK=True)\n",
    "    # calculate the potential energy (and convert to µK)\n",
    "    E_pot = expectation_value(wf, V_qho) / (Boltzmann * 1e-6)\n",
    "    # calculate the total energy\n",
    "    E_tot = E_kin + E_pot\n",
    "    # split-step application (set is_complex=True to use imaginary time step)\n",
    "    wf = split_step(wf=wf, dt=dt, mass=mass, V=V_qho, is_complex=True)\n",
    "    # split_step() normalizes the wavefunction if: is_complex=True\n",
    "    # return the wavefunction for the next iteration step and the energies in a\n",
    "    # dictionary for plotting (every iteration the energies are appended to a\n",
    "    # list)\n",
    "    return wf, {\"E_kin\": E_kin, \"E_pot\": E_pot, \"E_tot\": E_tot}\n"
   ]
  },
  {
   "cell_type": "markdown",
   "metadata": {},
   "source": [
    "Now, we utilize the `jax.lax.scan` function to loop over the previously defined\n",
    "`step` function. We additionally pass it our initial wavefunction `wf_init` and \n",
    "the number of steps we want to perform (here: 10654 are enough such that the \n",
    "total energy converges).\n",
    "\n",
    "`jax.lax.scan` requires that the step function returns an `FFTArray` in the same\n",
    "space as its input. As `split_step` (and, thus, `step` as well) returns the\n",
    "`FFTArray` in the frequency space, we need to transform the initial wavefunction\n",
    "into the frequency space first, before passing it to `jax.lax.scan`."
   ]
  },
  {
   "cell_type": "code",
   "execution_count": null,
   "metadata": {},
   "outputs": [],
   "source": [
    "from jax.lax import scan\n",
    "# 10654 iteration steps are performed (this was found to be enough such that the\n",
    "# total energy converges)\n",
    "N_iter = 10654\n",
    "# calls jax.lax.scan to start the iteration\n",
    "# scan returns the final wavefunction and a dictionary containing the energies\n",
    "# {\"E_kin\": [...], \"E_pot\": [...], \"E_tot\": [...]}\n",
    "wf_final, energies = scan(f=step, init=wf_init.into(space=\"freq\"), xs=None, length=N_iter)"
   ]
  },
  {
   "cell_type": "markdown",
   "metadata": {},
   "source": [
    "The final wavefunction after iteration using `jax.lax.scan`:"
   ]
  },
  {
   "cell_type": "code",
   "execution_count": null,
   "metadata": {},
   "outputs": [],
   "source": [
    "generate_panel_plot(wf_final)"
   ]
  },
  {
   "cell_type": "markdown",
   "metadata": {},
   "source": [
    "### Plot the energy convergence"
   ]
  },
  {
   "cell_type": "markdown",
   "metadata": {},
   "source": [
    "The analytical solution for this problem is very well known, where the\n",
    "grounstate energy should be\n",
    "$$\n",
    "    E_0 = \\tfrac{1}{2}\\hbar\\omega\n",
    "$$"
   ]
  },
  {
   "cell_type": "code",
   "execution_count": null,
   "metadata": {},
   "outputs": [],
   "source": [
    "from scipy.constants import hbar\n",
    "# the analytical solution of the ground state energy\n",
    "E_tot_analy = 0.5*omega_x*hbar/(Boltzmann * 1e-6) #microK"
   ]
  },
  {
   "cell_type": "markdown",
   "metadata": {},
   "source": [
    "We plot the analytical solution together with the kinetic, potential and total\n",
    "energy during the imarginary time evolution:"
   ]
  },
  {
   "cell_type": "code",
   "execution_count": null,
   "metadata": {},
   "outputs": [],
   "source": [
    "import numpy as np\n",
    "from bokeh.plotting import figure, show\n",
    "# plot the energy trend during the imaginary time evolution\n",
    "plt = figure(\n",
    "    width=800, height=400, min_border=50,\n",
    "    title=\"Energy values during imaginary time evolution\",\n",
    "    x_axis_label=\"Iteration step\",\n",
    "    y_axis_label=\"Energy in µK\"\n",
    ")\n",
    "x_num_iter = np.arange(N_iter)\n",
    "# numerical solution\n",
    "plt.line(\n",
    "    x_num_iter, energies[\"E_kin\"],\n",
    "    line_width=1.5, color=\"red\", legend_label=\"Kinetic Energy\"\n",
    ")\n",
    "plt.line(\n",
    "    x_num_iter, energies[\"E_pot\"],\n",
    "    line_width=1.5, color=\"green\", legend_label=\"Potential Energy\"\n",
    ")\n",
    "plt.line(\n",
    "    x_num_iter, energies[\"E_tot\"],\n",
    "    line_width=1.5, color=\"blue\", legend_label=\"Total Energy\"\n",
    ")\n",
    "# analytical solution\n",
    "plt.line(\n",
    "    x_num_iter, np.full((N_iter,), E_tot_analy),\n",
    "    line_width=1.5, line_dash=\"dashed\", color=\"black\",\n",
    "    legend_label=\"Ground state energy (analytical solution)\"\n",
    ")\n",
    "# show the plot\n",
    "show(plt)"
   ]
  },
  {
   "cell_type": "code",
   "execution_count": null,
   "metadata": {},
   "outputs": [],
   "source": []
  }
 ],
 "metadata": {
  "kernelspec": {
   "display_name": "Python 3",
   "language": "python",
   "name": "python3"
  },
  "language_info": {
   "codemirror_mode": {
    "name": "ipython",
    "version": 3
   },
   "file_extension": ".py",
   "mimetype": "text/x-python",
   "name": "python",
   "nbconvert_exporter": "python",
   "pygments_lexer": "ipython3",
   "version": "3.9.18"
  }
 },
 "nbformat": 4,
 "nbformat_minor": 2
}
